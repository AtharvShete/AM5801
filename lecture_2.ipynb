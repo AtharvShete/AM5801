{
 "cells": [
  {
   "cell_type": "code",
   "execution_count": 2,
   "id": "36ab0059",
   "metadata": {},
   "outputs": [
    {
     "name": "stdout",
     "output_type": "stream",
     "text": [
      "499500\n",
      "Time taken: 0.0010035037994384766\n"
     ]
    }
   ],
   "source": [
    "import time\n",
    "import random\n",
    "\n",
    "n = 1000\n",
    "start = time.time()\n",
    "total = 0\n",
    "\n",
    "for i in range(n):\n",
    "    total += i\n",
    "print(total)\n",
    "end = time.time()\n",
    "print(\"Time taken:\", end - start)"
   ]
  },
  {
   "cell_type": "code",
   "execution_count": 4,
   "id": "e011edfc",
   "metadata": {},
   "outputs": [],
   "source": [
    "def linear_search(arr, target):\n",
    "    for i in range(len(arr)):\n",
    "        if arr[i] == target:\n",
    "            return i\n",
    "    return \"Target Element Not Found\""
   ]
  },
  {
   "cell_type": "code",
   "execution_count": null,
   "id": "1a17c70c",
   "metadata": {},
   "outputs": [],
   "source": []
  }
 ],
 "metadata": {
  "kernelspec": {
   "display_name": "am5801",
   "language": "python",
   "name": "python3"
  },
  "language_info": {
   "codemirror_mode": {
    "name": "ipython",
    "version": 3
   },
   "file_extension": ".py",
   "mimetype": "text/x-python",
   "name": "python",
   "nbconvert_exporter": "python",
   "pygments_lexer": "ipython3",
   "version": "3.11.11"
  }
 },
 "nbformat": 4,
 "nbformat_minor": 5
}
