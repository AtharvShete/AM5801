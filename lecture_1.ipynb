{
 "cells": [
  {
   "cell_type": "markdown",
   "id": "cd720bb3",
   "metadata": {},
   "source": [
    "### Making a Matrix in using NumPy"
   ]
  },
  {
   "cell_type": "code",
   "execution_count": 2,
   "id": "cb03282e",
   "metadata": {},
   "outputs": [
    {
     "name": "stdout",
     "output_type": "stream",
     "text": [
      "My matrix:\n",
      " [[1 2 3]\n",
      " [4 5 6]]\n"
     ]
    }
   ],
   "source": [
    "import numpy as np\n",
    "\n",
    "my_matrix = np.array([[1, 2, 3], \n",
    "                      [4, 5, 6]])\n",
    "\n",
    "print(\"My matrix:\\n\", my_matrix)"
   ]
  },
  {
   "cell_type": "markdown",
   "id": "d2d71a9f",
   "metadata": {},
   "source": [
    "### Adding Two Matrices"
   ]
  },
  {
   "cell_type": "code",
   "execution_count": 3,
   "id": "06dec9ad",
   "metadata": {},
   "outputs": [
    {
     "name": "stdout",
     "output_type": "stream",
     "text": [
      "Sum of matrices:\n",
      " [[ 6  8]\n",
      " [10 12]]\n"
     ]
    }
   ],
   "source": [
    "matrix1 = np.array([[1, 2], \n",
    "                    [3, 4]])\n",
    "matrix2 = np.array([[5, 6], \n",
    "                    [7, 8]])\n",
    "\n",
    "sum_matrix = matrix1 + matrix2\n",
    "print(\"Sum of matrices:\\n\", sum_matrix)"
   ]
  },
  {
   "cell_type": "markdown",
   "id": "61e3c69c",
   "metadata": {},
   "source": [
    "### Matrix Multiplication"
   ]
  },
  {
   "cell_type": "code",
   "execution_count": 4,
   "id": "97b7027a",
   "metadata": {},
   "outputs": [
    {
     "name": "stdout",
     "output_type": "stream",
     "text": [
      "Matrix 1:\n",
      " [[1 2]\n",
      " [3 4]]\n",
      "======================\n",
      "Matrix 2:\n",
      " [[5 6]\n",
      " [7 8]]\n",
      "======================\n",
      "Result of matrix multiplication:\n",
      " [[19 22]\n",
      " [43 50]]\n",
      "======================\n"
     ]
    }
   ],
   "source": [
    "result = np.dot(matrix1, matrix2)\n",
    "\n",
    "print(\"Matrix 1:\\n\", matrix1,end=\"\\n======================\\n\")\n",
    "print(\"Matrix 2:\\n\", matrix2, end=\"\\n======================\\n\")\n",
    "print(\"Result of matrix multiplication:\\n\", result, end=\"\\n======================\\n\")"
   ]
  },
  {
   "cell_type": "markdown",
   "id": "e51e662b",
   "metadata": {},
   "source": [
    "### Excercise: Find the Inverse of a Matrix"
   ]
  },
  {
   "cell_type": "markdown",
   "id": "08fcdd49",
   "metadata": {},
   "source": [
    "**Question**:  \n",
    "Find the inverse of the function that computes the inverse of the given 2x2 matrix:  \n",
    "\n",
    "\\begin{pmatrix} 4 & 7 \\\\ 2 & 6 \\end{pmatrix}\n",
    "\n",
    "\n",
    "Do **not** use any built-in inverse functions. Instead, use the formula for the inverse of a 2x2 matrix:  \n",
    "\n",
    "$$\\text{If } A = \\begin{pmatrix} a & b \\\\ c & d \\end{pmatrix}, \\quad \\text{then } A^{-1} = \\frac{1}{ad - bc} \\begin{pmatrix} d & -b \\\\ -c & a \\end{pmatrix}$$\n",
    "\n"
   ]
  },
  {
   "cell_type": "code",
   "execution_count": 9,
   "id": "910ffde9",
   "metadata": {},
   "outputs": [],
   "source": [
    "matrix = np.array([[4,7],\n",
    "                   [2,6]])"
   ]
  },
  {
   "cell_type": "code",
   "execution_count": 10,
   "id": "60e6fe0b",
   "metadata": {},
   "outputs": [],
   "source": [
    "def matrix_inverse(matrix):\n",
    "\n",
    "    a, b = matrix[0]\n",
    "    c, d = matrix[1]\n",
    "    determinant = a * d - b * c\n",
    "    if determinant == 0:\n",
    "        print(\"Matrix is singular and cannot be inverted.\")\n",
    "        return None\n",
    "    inverse_matrix = (1 / determinant) * np.array([[d, -b], \n",
    "                                                    [-c, a]])\n",
    "    return inverse_matrix"
   ]
  },
  {
   "cell_type": "markdown",
   "id": "ebd99abd",
   "metadata": {},
   "source": [
    "### Inverse using My Function"
   ]
  },
  {
   "cell_type": "code",
   "execution_count": 11,
   "id": "2b288bd1",
   "metadata": {},
   "outputs": [
    {
     "name": "stdout",
     "output_type": "stream",
     "text": [
      "Matrix Inverse: \n",
      " [[ 0.6 -0.7]\n",
      " [-0.2  0.4]]\n"
     ]
    }
   ],
   "source": [
    "print(\"Matrix Inverse: \\n\", matrix_inverse(matrix))"
   ]
  },
  {
   "cell_type": "markdown",
   "id": "90b44b09",
   "metadata": {},
   "source": [
    "### Comparing Inverse With NumPy's Inverse Function"
   ]
  },
  {
   "cell_type": "code",
   "execution_count": 12,
   "id": "aab44bc1",
   "metadata": {},
   "outputs": [
    {
     "name": "stdout",
     "output_type": "stream",
     "text": [
      "Matrix Inverse: \n",
      " [[ 0.6 -0.7]\n",
      " [-0.2  0.4]]\n"
     ]
    }
   ],
   "source": [
    "print(\"Matrix Inverse: \\n\", np.linalg.inv(matrix))"
   ]
  }
 ],
 "metadata": {
  "kernelspec": {
   "display_name": "am5801",
   "language": "python",
   "name": "python3"
  },
  "language_info": {
   "codemirror_mode": {
    "name": "ipython",
    "version": 3
   },
   "file_extension": ".py",
   "mimetype": "text/x-python",
   "name": "python",
   "nbconvert_exporter": "python",
   "pygments_lexer": "ipython3",
   "version": "3.11.11"
  }
 },
 "nbformat": 4,
 "nbformat_minor": 5
}
